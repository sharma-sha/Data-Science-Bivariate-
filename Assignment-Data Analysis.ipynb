{
 "cells": [
  {
   "cell_type": "code",
   "execution_count": 1,
   "id": "6be68bb4-a675-4462-b6bc-ca3574d32e84",
   "metadata": {},
   "outputs": [],
   "source": [
    "import pandas as pd"
   ]
  },
  {
   "cell_type": "code",
   "execution_count": 2,
   "id": "1a73d40f-446d-47e9-a56d-a4554233f25d",
   "metadata": {},
   "outputs": [],
   "source": [
    "dataset=pd.read_csv(\"Placement_Data_Full_Class.csv\")"
   ]
  },
  {
   "cell_type": "code",
   "execution_count": 3,
   "id": "652772dc-3371-4107-af86-f4b08e3b9e7f",
   "metadata": {},
   "outputs": [
    {
     "data": {
      "text/html": [
       "<div>\n",
       "<style scoped>\n",
       "    .dataframe tbody tr th:only-of-type {\n",
       "        vertical-align: middle;\n",
       "    }\n",
       "\n",
       "    .dataframe tbody tr th {\n",
       "        vertical-align: top;\n",
       "    }\n",
       "\n",
       "    .dataframe thead th {\n",
       "        text-align: right;\n",
       "    }\n",
       "</style>\n",
       "<table border=\"1\" class=\"dataframe\">\n",
       "  <thead>\n",
       "    <tr style=\"text-align: right;\">\n",
       "      <th></th>\n",
       "      <th>sl_no</th>\n",
       "      <th>gender</th>\n",
       "      <th>ssc_p</th>\n",
       "      <th>ssc_b</th>\n",
       "      <th>hsc_p</th>\n",
       "      <th>hsc_b</th>\n",
       "      <th>hsc_s</th>\n",
       "      <th>degree_p</th>\n",
       "      <th>degree_t</th>\n",
       "      <th>workex</th>\n",
       "      <th>etest_p</th>\n",
       "      <th>specialisation</th>\n",
       "      <th>mba_p</th>\n",
       "      <th>status</th>\n",
       "      <th>salary</th>\n",
       "    </tr>\n",
       "  </thead>\n",
       "  <tbody>\n",
       "    <tr>\n",
       "      <th>0</th>\n",
       "      <td>1.0</td>\n",
       "      <td>M</td>\n",
       "      <td>67.00</td>\n",
       "      <td>Others</td>\n",
       "      <td>91.00</td>\n",
       "      <td>Others</td>\n",
       "      <td>Commerce</td>\n",
       "      <td>58.00</td>\n",
       "      <td>Sci&amp;Tech</td>\n",
       "      <td>No</td>\n",
       "      <td>55.0</td>\n",
       "      <td>Mkt&amp;HR</td>\n",
       "      <td>58.80</td>\n",
       "      <td>Placed</td>\n",
       "      <td>270000.0</td>\n",
       "    </tr>\n",
       "    <tr>\n",
       "      <th>1</th>\n",
       "      <td>2.0</td>\n",
       "      <td>M</td>\n",
       "      <td>79.33</td>\n",
       "      <td>Central</td>\n",
       "      <td>78.33</td>\n",
       "      <td>Others</td>\n",
       "      <td>Science</td>\n",
       "      <td>77.48</td>\n",
       "      <td>Sci&amp;Tech</td>\n",
       "      <td>Yes</td>\n",
       "      <td>86.5</td>\n",
       "      <td>Mkt&amp;Fin</td>\n",
       "      <td>66.28</td>\n",
       "      <td>Placed</td>\n",
       "      <td>200000.0</td>\n",
       "    </tr>\n",
       "    <tr>\n",
       "      <th>2</th>\n",
       "      <td>3.0</td>\n",
       "      <td>M</td>\n",
       "      <td>65.00</td>\n",
       "      <td>Central</td>\n",
       "      <td>68.00</td>\n",
       "      <td>Central</td>\n",
       "      <td>Arts</td>\n",
       "      <td>64.00</td>\n",
       "      <td>Comm&amp;Mgmt</td>\n",
       "      <td>No</td>\n",
       "      <td>75.0</td>\n",
       "      <td>Mkt&amp;Fin</td>\n",
       "      <td>57.80</td>\n",
       "      <td>Placed</td>\n",
       "      <td>250000.0</td>\n",
       "    </tr>\n",
       "    <tr>\n",
       "      <th>3</th>\n",
       "      <td>4.0</td>\n",
       "      <td>M</td>\n",
       "      <td>56.00</td>\n",
       "      <td>Central</td>\n",
       "      <td>52.00</td>\n",
       "      <td>Central</td>\n",
       "      <td>Science</td>\n",
       "      <td>52.00</td>\n",
       "      <td>Sci&amp;Tech</td>\n",
       "      <td>No</td>\n",
       "      <td>66.0</td>\n",
       "      <td>Mkt&amp;HR</td>\n",
       "      <td>59.43</td>\n",
       "      <td>Not Placed</td>\n",
       "      <td>NaN</td>\n",
       "    </tr>\n",
       "    <tr>\n",
       "      <th>4</th>\n",
       "      <td>5.0</td>\n",
       "      <td>M</td>\n",
       "      <td>85.80</td>\n",
       "      <td>Central</td>\n",
       "      <td>73.60</td>\n",
       "      <td>Central</td>\n",
       "      <td>Commerce</td>\n",
       "      <td>73.30</td>\n",
       "      <td>Comm&amp;Mgmt</td>\n",
       "      <td>No</td>\n",
       "      <td>96.8</td>\n",
       "      <td>Mkt&amp;Fin</td>\n",
       "      <td>55.50</td>\n",
       "      <td>Placed</td>\n",
       "      <td>425000.0</td>\n",
       "    </tr>\n",
       "    <tr>\n",
       "      <th>...</th>\n",
       "      <td>...</td>\n",
       "      <td>...</td>\n",
       "      <td>...</td>\n",
       "      <td>...</td>\n",
       "      <td>...</td>\n",
       "      <td>...</td>\n",
       "      <td>...</td>\n",
       "      <td>...</td>\n",
       "      <td>...</td>\n",
       "      <td>...</td>\n",
       "      <td>...</td>\n",
       "      <td>...</td>\n",
       "      <td>...</td>\n",
       "      <td>...</td>\n",
       "      <td>...</td>\n",
       "    </tr>\n",
       "    <tr>\n",
       "      <th>212</th>\n",
       "      <td>211.0</td>\n",
       "      <td>M</td>\n",
       "      <td>80.60</td>\n",
       "      <td>Others</td>\n",
       "      <td>82.00</td>\n",
       "      <td>Others</td>\n",
       "      <td>Commerce</td>\n",
       "      <td>77.60</td>\n",
       "      <td>Comm&amp;Mgmt</td>\n",
       "      <td>No</td>\n",
       "      <td>91.0</td>\n",
       "      <td>Mkt&amp;Fin</td>\n",
       "      <td>74.49</td>\n",
       "      <td>Placed</td>\n",
       "      <td>400000.0</td>\n",
       "    </tr>\n",
       "    <tr>\n",
       "      <th>213</th>\n",
       "      <td>212.0</td>\n",
       "      <td>M</td>\n",
       "      <td>58.00</td>\n",
       "      <td>Others</td>\n",
       "      <td>60.00</td>\n",
       "      <td>Others</td>\n",
       "      <td>Science</td>\n",
       "      <td>72.00</td>\n",
       "      <td>Sci&amp;Tech</td>\n",
       "      <td>No</td>\n",
       "      <td>74.0</td>\n",
       "      <td>Mkt&amp;Fin</td>\n",
       "      <td>53.62</td>\n",
       "      <td>Placed</td>\n",
       "      <td>275000.0</td>\n",
       "    </tr>\n",
       "    <tr>\n",
       "      <th>214</th>\n",
       "      <td>213.0</td>\n",
       "      <td>M</td>\n",
       "      <td>67.00</td>\n",
       "      <td>Others</td>\n",
       "      <td>67.00</td>\n",
       "      <td>Others</td>\n",
       "      <td>Commerce</td>\n",
       "      <td>73.00</td>\n",
       "      <td>Comm&amp;Mgmt</td>\n",
       "      <td>Yes</td>\n",
       "      <td>59.0</td>\n",
       "      <td>Mkt&amp;Fin</td>\n",
       "      <td>69.72</td>\n",
       "      <td>Placed</td>\n",
       "      <td>295000.0</td>\n",
       "    </tr>\n",
       "    <tr>\n",
       "      <th>215</th>\n",
       "      <td>214.0</td>\n",
       "      <td>F</td>\n",
       "      <td>74.00</td>\n",
       "      <td>Others</td>\n",
       "      <td>66.00</td>\n",
       "      <td>Others</td>\n",
       "      <td>Commerce</td>\n",
       "      <td>58.00</td>\n",
       "      <td>Comm&amp;Mgmt</td>\n",
       "      <td>No</td>\n",
       "      <td>70.0</td>\n",
       "      <td>Mkt&amp;HR</td>\n",
       "      <td>60.23</td>\n",
       "      <td>Placed</td>\n",
       "      <td>204000.0</td>\n",
       "    </tr>\n",
       "    <tr>\n",
       "      <th>216</th>\n",
       "      <td>215.0</td>\n",
       "      <td>M</td>\n",
       "      <td>62.00</td>\n",
       "      <td>Central</td>\n",
       "      <td>58.00</td>\n",
       "      <td>Others</td>\n",
       "      <td>Science</td>\n",
       "      <td>53.00</td>\n",
       "      <td>Comm&amp;Mgmt</td>\n",
       "      <td>No</td>\n",
       "      <td>89.0</td>\n",
       "      <td>Mkt&amp;HR</td>\n",
       "      <td>60.22</td>\n",
       "      <td>Not Placed</td>\n",
       "      <td>NaN</td>\n",
       "    </tr>\n",
       "  </tbody>\n",
       "</table>\n",
       "<p>217 rows × 15 columns</p>\n",
       "</div>"
      ],
      "text/plain": [
       "     sl_no gender  ssc_p    ssc_b  hsc_p    hsc_b     hsc_s  degree_p  \\\n",
       "0      1.0      M  67.00   Others  91.00   Others  Commerce     58.00   \n",
       "1      2.0      M  79.33  Central  78.33   Others   Science     77.48   \n",
       "2      3.0      M  65.00  Central  68.00  Central      Arts     64.00   \n",
       "3      4.0      M  56.00  Central  52.00  Central   Science     52.00   \n",
       "4      5.0      M  85.80  Central  73.60  Central  Commerce     73.30   \n",
       "..     ...    ...    ...      ...    ...      ...       ...       ...   \n",
       "212  211.0      M  80.60   Others  82.00   Others  Commerce     77.60   \n",
       "213  212.0      M  58.00   Others  60.00   Others   Science     72.00   \n",
       "214  213.0      M  67.00   Others  67.00   Others  Commerce     73.00   \n",
       "215  214.0      F  74.00   Others  66.00   Others  Commerce     58.00   \n",
       "216  215.0      M  62.00  Central  58.00   Others   Science     53.00   \n",
       "\n",
       "      degree_t workex  etest_p specialisation  mba_p      status    salary  \n",
       "0     Sci&Tech     No     55.0         Mkt&HR  58.80      Placed  270000.0  \n",
       "1     Sci&Tech    Yes     86.5        Mkt&Fin  66.28      Placed  200000.0  \n",
       "2    Comm&Mgmt     No     75.0        Mkt&Fin  57.80      Placed  250000.0  \n",
       "3     Sci&Tech     No     66.0         Mkt&HR  59.43  Not Placed       NaN  \n",
       "4    Comm&Mgmt     No     96.8        Mkt&Fin  55.50      Placed  425000.0  \n",
       "..         ...    ...      ...            ...    ...         ...       ...  \n",
       "212  Comm&Mgmt     No     91.0        Mkt&Fin  74.49      Placed  400000.0  \n",
       "213   Sci&Tech     No     74.0        Mkt&Fin  53.62      Placed  275000.0  \n",
       "214  Comm&Mgmt    Yes     59.0        Mkt&Fin  69.72      Placed  295000.0  \n",
       "215  Comm&Mgmt     No     70.0         Mkt&HR  60.23      Placed  204000.0  \n",
       "216  Comm&Mgmt     No     89.0         Mkt&HR  60.22  Not Placed       NaN  \n",
       "\n",
       "[217 rows x 15 columns]"
      ]
     },
     "execution_count": 3,
     "metadata": {},
     "output_type": "execute_result"
    }
   ],
   "source": [
    "dataset"
   ]
  },
  {
   "cell_type": "code",
   "execution_count": 4,
   "id": "ef549079-0014-449c-8865-c1f6f830729e",
   "metadata": {},
   "outputs": [
    {
     "data": {
      "text/plain": [
       "sl_no              2\n",
       "gender             2\n",
       "ssc_p              2\n",
       "ssc_b              2\n",
       "hsc_p              2\n",
       "hsc_b              2\n",
       "hsc_s              2\n",
       "degree_p           2\n",
       "degree_t           2\n",
       "workex             2\n",
       "etest_p            2\n",
       "specialisation     2\n",
       "mba_p              2\n",
       "status             2\n",
       "salary            69\n",
       "dtype: int64"
      ]
     },
     "execution_count": 4,
     "metadata": {},
     "output_type": "execute_result"
    }
   ],
   "source": [
    "#is a great way to get a quick count of null values in each column of a DataFrame.\n",
    "dataset.isnull().sum()"
   ]
  },
  {
   "cell_type": "code",
   "execution_count": null,
   "id": "e476b576-f1e7-418e-8be9-ed2ad54e2996",
   "metadata": {},
   "outputs": [],
   "source": []
  },
  {
   "cell_type": "markdown",
   "id": "45133c67-0a3c-4ce8-90cb-dcf903095424",
   "metadata": {},
   "source": [
    "#1)Replace the NaN values with correct value. And justify why you have chosen the same."
   ]
  },
  {
   "cell_type": "code",
   "execution_count": 5,
   "id": "f79cb0c3-28f2-4248-99f3-64ab7023ee1c",
   "metadata": {},
   "outputs": [
    {
     "data": {
      "text/plain": [
       "sl_no              0\n",
       "gender             0\n",
       "ssc_p              0\n",
       "ssc_b              0\n",
       "hsc_p              0\n",
       "hsc_b              0\n",
       "hsc_s              0\n",
       "degree_p           0\n",
       "degree_t           0\n",
       "workex             0\n",
       "etest_p            0\n",
       "specialisation     0\n",
       "mba_p              0\n",
       "status             0\n",
       "salary            67\n",
       "dtype: int64"
      ]
     },
     "execution_count": 5,
     "metadata": {},
     "output_type": "execute_result"
    }
   ],
   "source": [
    "#Rmove extra empyt rows\n",
    "#In this code:\n",
    "#- axis=1 specifies that we're working with columns\n",
    "#- axis=0 specifies that we're working with rows\n",
    "#- how='all' means that only columns or rows with all missing values (i.e., empty columns or rows) will be removed\n",
    "\n",
    "#- axis=1 என்பது நெடுவரிசைகளுடன் நாங்கள் வேலை செய்கிறோம் என்பதைக் குறிப்பிடுகிறது\n",
    "#- axis=0 என்பது நாம் வரிசைகளுடன் வேலை செய்கிறோம் என்பதைக் குறிப்பிடுகிறது\n",
    "#- எப்படி='அனைத்து' என்றால், அனைத்து விடுபட்ட மதிப்புகள் \n",
    "#(அதாவது வெற்று நெடுவரிசைகள் அல்லது வரிசைகள்) கொண்ட நெடுவரிசைகள் அல்லது வரிசைகள் மட்டுமே அகற்றப்படும்.\n",
    "\n",
    "dataset=dataset.dropna(axis=0, how='all').dropna(axis=1, how='all')\n",
    "dataset.isnull().sum()"
   ]
  },
  {
   "cell_type": "code",
   "execution_count": 6,
   "id": "95e79ea9-d76c-4538-b0c3-2356acc5fcf6",
   "metadata": {},
   "outputs": [
    {
     "name": "stderr",
     "output_type": "stream",
     "text": [
      "C:\\Users\\user\\AppData\\Local\\Temp\\ipykernel_1808\\3941721443.py:7: FutureWarning: A value is trying to be set on a copy of a DataFrame or Series through chained assignment using an inplace method.\n",
      "The behavior will change in pandas 3.0. This inplace method will never work because the intermediate object on which we are setting values always behaves as a copy.\n",
      "\n",
      "For example, when doing 'df[col].method(value, inplace=True)', try using 'df.method({col: value}, inplace=True)' or df[col] = df[col].method(value) instead, to perform the operation inplace on the original object.\n",
      "\n",
      "\n",
      "  dataset[\"salary\"].fillna(0,inplace=True)\n"
     ]
    }
   ],
   "source": [
    "#df: the original DataFrame\n",
    "#df: அசல் DataFrame\n",
    "#fillna(): the method to replace NaN values\n",
    "#fillna(): NaN மதிப்புகளை மாற்றுவதற்கான முறை\n",
    "#inplace=True, you're telling pandas to modify the original DataFrame df directly, rather than returning a new DataFrame with the replaced values.\n",
    "#inplace=True ஐ அமைப்பதன் மூலம், மாற்றப்பட்ட மதிப்புகளுடன் புதிய DataFrame ஐத் திருப்பித் தராமல், அசல் DataFrame df ஐ நேரடியாக மாற்றுமாறு பாண்டாக்களிடம் கூறுகிறீர்கள்.\n",
    "dataset[\"salary\"].fillna(0,inplace=True)"
   ]
  },
  {
   "cell_type": "code",
   "execution_count": 7,
   "id": "42778c70-8513-464a-ba95-27ad52f52375",
   "metadata": {},
   "outputs": [
    {
     "data": {
      "text/plain": [
       "sl_no             0\n",
       "gender            0\n",
       "ssc_p             0\n",
       "ssc_b             0\n",
       "hsc_p             0\n",
       "hsc_b             0\n",
       "hsc_s             0\n",
       "degree_p          0\n",
       "degree_t          0\n",
       "workex            0\n",
       "etest_p           0\n",
       "specialisation    0\n",
       "mba_p             0\n",
       "status            0\n",
       "salary            0\n",
       "dtype: int64"
      ]
     },
     "execution_count": 7,
     "metadata": {},
     "output_type": "execute_result"
    }
   ],
   "source": [
    "dataset.isnull().sum()"
   ]
  },
  {
   "cell_type": "code",
   "execution_count": null,
   "id": "d7b2773a-40bb-4a9e-955b-b7e673ec1bf5",
   "metadata": {},
   "outputs": [],
   "source": []
  },
  {
   "cell_type": "markdown",
   "id": "e3d1e7a1-5868-4a1f-b975-df4733b37a7a",
   "metadata": {},
   "source": [
    "2)How many of them are not placed?"
   ]
  },
  {
   "cell_type": "code",
   "execution_count": 8,
   "id": "0d58bd00-d32b-499f-a1cd-4e1793ae145b",
   "metadata": {},
   "outputs": [
    {
     "name": "stdout",
     "output_type": "stream",
     "text": [
      "67\n"
     ]
    }
   ],
   "source": [
    "#Count the number of rows where \"status\" is not \"Placed\"\n",
    "Not_Placed_df=(dataset['status']=='Not Placed').sum()\n",
    "print(Not_Placed_df)"
   ]
  },
  {
   "cell_type": "code",
   "execution_count": null,
   "id": "e0becd20-feb9-43d7-9284-8fa315e0ddd6",
   "metadata": {},
   "outputs": [],
   "source": []
  },
  {
   "cell_type": "markdown",
   "id": "ee32f50f-7486-4060-9625-fa7fec4fba5b",
   "metadata": {},
   "source": [
    "#3)Find the reason for non placement from the dataset?"
   ]
  },
  {
   "cell_type": "code",
   "execution_count": 9,
   "id": "7d9470e0-f458-4608-942c-4df0e6591569",
   "metadata": {},
   "outputs": [
    {
     "data": {
      "text/plain": [
       "np.float64(61.65489552238805)"
      ]
     },
     "execution_count": 9,
     "metadata": {},
     "output_type": "execute_result"
    }
   ],
   "source": [
    "Non_Placed=dataset[dataset['status']=='Not Placed']\n",
    "average_mark_Non_Placed=Non_Placed[['ssc_p','hsc_p','degree_p','etest_p','mba_p']].mean()\n",
    "average_mark_Non_Placed.mean()"
   ]
  },
  {
   "cell_type": "code",
   "execution_count": 10,
   "id": "140a534c-727d-4d90-8dd2-668c9bf578f7",
   "metadata": {},
   "outputs": [
    {
     "data": {
      "text/plain": [
       "np.float64(69.24120270270271)"
      ]
     },
     "execution_count": 10,
     "metadata": {},
     "output_type": "execute_result"
    }
   ],
   "source": [
    "Placed=dataset[dataset['status']=='Placed']\n",
    "average_mark_Placed=Placed[['ssc_p','hsc_p','degree_p','etest_p','mba_p']].mean()\n",
    "average_mark_Placed.mean()"
   ]
  },
  {
   "cell_type": "code",
   "execution_count": null,
   "id": "5451efd9-e8fc-4fee-b6c0-b2a4333571c4",
   "metadata": {},
   "outputs": [],
   "source": []
  },
  {
   "cell_type": "markdown",
   "id": "7aeb85ff-d3be-40e0-907b-2d37f9ceebd5",
   "metadata": {},
   "source": [
    "#4)What kind of relation between salary and mba_p"
   ]
  },
  {
   "cell_type": "code",
   "execution_count": 29,
   "id": "bfee80ec-11fc-4f0e-be34-ad42f2ef1db6",
   "metadata": {},
   "outputs": [],
   "source": [
    "#dataset.corr(numeric_only=True)"
   ]
  },
  {
   "cell_type": "code",
   "execution_count": 30,
   "id": "774423db-80ac-402d-9f89-16b65e328f70",
   "metadata": {},
   "outputs": [
    {
     "data": {
      "text/plain": [
       "np.float64(0.13982273892615557)"
      ]
     },
     "execution_count": 30,
     "metadata": {},
     "output_type": "execute_result"
    }
   ],
   "source": [
    "dataset['mba_p'].corr(dataset['salary'])"
   ]
  },
  {
   "cell_type": "code",
   "execution_count": null,
   "id": "07f64de7-1627-4b95-b745-b0138c6fa389",
   "metadata": {},
   "outputs": [],
   "source": []
  },
  {
   "cell_type": "markdown",
   "id": "b0a70367-cca7-44fd-ae1b-77074a01b330",
   "metadata": {},
   "source": [
    "#5)Which specialization is getting minimum salary?"
   ]
  },
  {
   "cell_type": "code",
   "execution_count": 13,
   "id": "e61c5e1a-6a6d-4df5-af1c-f69c9e165e74",
   "metadata": {},
   "outputs": [
    {
     "name": "stdout",
     "output_type": "stream",
     "text": [
      "specialisation\n",
      "Mkt&Fin    236591.666667\n",
      "Mkt&HR     150842.105263\n",
      "Name: salary, dtype: float64\n"
     ]
    }
   ],
   "source": [
    "mini_salaries=dataset.groupby('specialisation')['salary'].mean()\n",
    "print(mini_salaries)"
   ]
  },
  {
   "cell_type": "markdown",
   "id": "b3874ff7-3736-4100-be6e-9edd75b2bc43",
   "metadata": {},
   "source": [
    "Minimum Salary for Mkt&HR"
   ]
  },
  {
   "cell_type": "code",
   "execution_count": null,
   "id": "82894003-45ec-4756-8f8d-bf15681aff4f",
   "metadata": {},
   "outputs": [],
   "source": []
  },
  {
   "cell_type": "markdown",
   "id": "4546d9cd-70de-497d-8136-cd445b8e061c",
   "metadata": {},
   "source": [
    " #6)How many of them getting above 500000 salary?"
   ]
  },
  {
   "cell_type": "code",
   "execution_count": 14,
   "id": "cddddce8-2799-47e4-8fd3-46794717ef30",
   "metadata": {},
   "outputs": [
    {
     "name": "stdout",
     "output_type": "stream",
     "text": [
      "3\n",
      "['M', 'M', 'F']\n"
     ]
    }
   ],
   "source": [
    "threshold=500000\n",
    "count_abuve_threshold=(dataset['salary']>threshold).sum()\n",
    "print(count_abuve_threshold)\n",
    "threshold\n",
    "\n",
    "High_salaries=dataset[dataset['salary']>500000]\n",
    "\n",
    "gender_list=High_salaries['gender'].tolist()\n",
    "print(gender_list)"
   ]
  },
  {
   "cell_type": "code",
   "execution_count": null,
   "id": "c72964c4-17ba-4939-bafc-8e98a4d3301a",
   "metadata": {},
   "outputs": [],
   "source": []
  },
  {
   "cell_type": "markdown",
   "id": "48210d75-7e7b-44f9-9f20-9fa88ab2e366",
   "metadata": {},
   "source": [
    "#7)Test the Analysis of Variance between etest_p and mba_p at signifance level 5%.(Make decision using Hypothesis Testing)"
   ]
  },
  {
   "cell_type": "code",
   "execution_count": 15,
   "id": "f0cde0fa-6f31-4e6c-bcc5-b4a0dc8b1846",
   "metadata": {},
   "outputs": [
    {
     "data": {
      "text/plain": [
       "F_onewayResult(statistic=np.float64(98.64487057324706), pvalue=np.float64(4.672547689133573e-21))"
      ]
     },
     "execution_count": 15,
     "metadata": {},
     "output_type": "execute_result"
    }
   ],
   "source": [
    "import scipy.stats as stats\n",
    "stats.f_oneway(dataset['etest_p'],dataset['mba_p'])"
   ]
  },
  {
   "cell_type": "code",
   "execution_count": 16,
   "id": "212f66de-e26a-4739-95e9-723843a4ea87",
   "metadata": {},
   "outputs": [],
   "source": [
    "#Reject null hypothesis p<0.05\n",
    "#accept null hypothesis and reject alternate hypothesis "
   ]
  },
  {
   "cell_type": "code",
   "execution_count": null,
   "id": "064ed5ee-ac6a-43e8-b94d-a9f01334c9c5",
   "metadata": {},
   "outputs": [],
   "source": []
  },
  {
   "cell_type": "markdown",
   "id": "195bc589-a33e-4189-a964-30dea0c4f183",
   "metadata": {},
   "source": [
    " #8)Test the similarity between the degree_t(Sci&Tech) and specialisa\u0002tion(Mkt&HR) with respect to salary at significance level of 5%.(Make\n",
    "decision using Hypothesis Testing)\n"
   ]
  },
  {
   "cell_type": "code",
   "execution_count": 17,
   "id": "f0d4850b-7b95-4e25-9ac3-aa6d45a0b9e7",
   "metadata": {},
   "outputs": [
    {
     "data": {
      "text/plain": [
       "TtestResult(statistic=np.float64(2.692041243555374), pvalue=np.float64(0.007897969943471179), df=np.float64(152.0))"
      ]
     },
     "execution_count": 17,
     "metadata": {},
     "output_type": "execute_result"
    }
   ],
   "source": [
    "from scipy.stats import ttest_ind\n",
    "dataset=dataset.dropna()\n",
    "Sci_Tech = dataset[dataset['degree_t']=='Sci&Tech']['salary']\n",
    "Mkt_HR = dataset[dataset['specialisation']=='Mkt&HR']['salary']\n",
    "ttest_ind(Sci_Tech,Mkt_HR)"
   ]
  },
  {
   "cell_type": "code",
   "execution_count": 18,
   "id": "9d842214-b20b-4cf5-8c4f-550099956eaf",
   "metadata": {},
   "outputs": [],
   "source": [
    "#Reject null hypothesis p<0.05\n",
    "#accept alternate hypothesis "
   ]
  },
  {
   "cell_type": "code",
   "execution_count": null,
   "id": "3e82596c-3cc3-4793-9e76-7ae4fd61a65b",
   "metadata": {},
   "outputs": [],
   "source": []
  },
  {
   "cell_type": "markdown",
   "id": "836c7caa-8a23-4c7f-bbb0-b5cbd414f537",
   "metadata": {},
   "source": [
    "#9)Convert the normal distribution to standard normal distribution for salary column"
   ]
  },
  {
   "cell_type": "code",
   "execution_count": 19,
   "id": "b88a2e8e-24cb-4517-87a6-2479e5b26b60",
   "metadata": {},
   "outputs": [
    {
     "name": "stderr",
     "output_type": "stream",
     "text": [
      "C:\\Users\\user\\AppData\\Local\\Temp\\ipykernel_1808\\1787962733.py:2: UserWarning: \n",
      "\n",
      "`distplot` is a deprecated function and will be removed in seaborn v0.14.0.\n",
      "\n",
      "Please adapt your code to use either `displot` (a figure-level function with\n",
      "similar flexibility) or `histplot` (an axes-level function for histograms).\n",
      "\n",
      "For a guide to updating your code to use the new functions, please see\n",
      "https://gist.github.com/mwaskom/de44147ed2974457ad6372750bbe5751\n",
      "\n",
      "  sns.distplot(dataset[\"salary\"])\n"
     ]
    },
    {
     "data": {
      "text/plain": [
       "<Axes: xlabel='salary', ylabel='Density'>"
      ]
     },
     "execution_count": 19,
     "metadata": {},
     "output_type": "execute_result"
    },
    {
     "data": {
      "image/png": "[encoded data removed]",
      "text/plain": [
       "<Figure size 640x480 with 1 Axes>"
      ]
     },
     "metadata": {},
     "output_type": "display_data"
    }
   ],
   "source": [
    "import seaborn as sns\n",
    "sns.distplot(dataset[\"salary\"])"
   ]
  },
  {
   "cell_type": "code",
   "execution_count": 20,
   "id": "37f7e368-1c96-439c-aff4-c4698ff5f869",
   "metadata": {},
   "outputs": [],
   "source": [
    "def stdNBgraph(dataset):\n",
    "    import seaborn as sns\n",
    "    mean=dataset.mean()\n",
    "    std=dataset.std()\n",
    "\n",
    "    values=[i for i in dataset]\n",
    "\n",
    "    z_score=[((j-mean)/std) for j in values]\n",
    "\n",
    "    sns.distplot(z_score,kde=True)\n",
    "\n",
    "    sum(z_score)/len(z_score)    "
   ]
  },
  {
   "cell_type": "code",
   "execution_count": 21,
   "id": "dfe904a1-c91b-4c79-8564-641e7304e215",
   "metadata": {},
   "outputs": [
    {
     "name": "stderr",
     "output_type": "stream",
     "text": [
      "C:\\Users\\user\\AppData\\Local\\Temp\\ipykernel_1808\\1573502603.py:10: UserWarning: \n",
      "\n",
      "`distplot` is a deprecated function and will be removed in seaborn v0.14.0.\n",
      "\n",
      "Please adapt your code to use either `displot` (a figure-level function with\n",
      "similar flexibility) or `histplot` (an axes-level function for histograms).\n",
      "\n",
      "For a guide to updating your code to use the new functions, please see\n",
      "https://gist.github.com/mwaskom/de44147ed2974457ad6372750bbe5751\n",
      "\n",
      "  sns.distplot(z_score,kde=True)\n"
     ]
    },
    {
     "data": {
      "image/png": "[encoded data removed]",
      "text/plain": [
       "<Figure size 640x480 with 1 Axes>"
      ]
     },
     "metadata": {},
     "output_type": "display_data"
    }
   ],
   "source": [
    "stdNBgraph(dataset['salary'])"
   ]
  },
  {
   "cell_type": "code",
   "execution_count": null,
   "id": "f3e96807-ffcf-42e1-8c72-f01e0dc34bf1",
   "metadata": {},
   "outputs": [],
   "source": []
  },
  {
   "cell_type": "markdown",
   "id": "85732f4a-f53b-4262-b839-9b547a7cc188",
   "metadata": {},
   "source": [
    "#10)What is the probability Density Function of the salary range from 700,000 to 900,000"
   ]
  },
  {
   "cell_type": "code",
   "execution_count": 22,
   "id": "f1043adf-27b3-4ac8-af01-ca8148e58b5c",
   "metadata": {},
   "outputs": [
    {
     "name": "stderr",
     "output_type": "stream",
     "text": [
      "C:\\Users\\user\\AppData\\Local\\Temp\\ipykernel_1808\\4201708349.py:27: DeprecationWarning: `trapz` is deprecated. Use `trapezoid` instead, or one of the numerical integration functions in `scipy.integrate`.\n",
      "  probability_density = np.trapz(pdf_values, salary_range)\n"
     ]
    },
    {
     "name": "stdout",
     "output_type": "stream",
     "text": [
      "Probability density in the range 700000 to 900000: 0.6770293190228701\n"
     ]
    },
    {
     "data": {
      "image/png": "[encoded data removed]",
      "text/plain": [
       "<Figure size 1000x600 with 1 Axes>"
      ]
     },
     "metadata": {},
     "output_type": "display_data"
    }
   ],
   "source": [
    "import numpy as np\n",
    "import pandas as pd\n",
    "from scipy.stats import gaussian_kde\n",
    "import matplotlib.pyplot as plt\n",
    "\n",
    "# Sample dataset: Replace this with your actual data\n",
    "np.random.seed(0)  # For reproducibility\n",
    "salaries = np.random.normal(loc=800000, scale=100000, size=1000)  # Mean=800,000, StdDev=100,000\n",
    "\n",
    "# Create a DataFrame\n",
    "data = pd.DataFrame({\"salary\": salaries})\n",
    "\n",
    "# Create a KDE object\n",
    "kde = gaussian_kde(data[\"salary\"])\n",
    "\n",
    "# Define the salary range of interest\n",
    "low_bound = 700000\n",
    "high_bound = 900000\n",
    "\n",
    "# Create a range of salary values for evaluation\n",
    "salary_range = np.linspace(low_bound, high_bound, 1000)\n",
    "\n",
    "# Evaluate the PDF at these salary values\n",
    "pdf_values = kde(salary_range)\n",
    "\n",
    "# Integrate the PDF values to get the probability density\n",
    "probability_density = np.trapz(pdf_values, salary_range)\n",
    "\n",
    "print(f\"Probability density in the range {low_bound} to {high_bound}: {probability_density}\")\n",
    "\n",
    "# Plot the KDE\n",
    "plt.figure(figsize=(10, 6))\n",
    "plt.plot(salary_range, pdf_values, label=\"KDE of Salaries\", color=\"blue\")\n",
    "plt.fill_between(salary_range, pdf_values, where=(salary_range >= low_bound) & (salary_range <= high_bound), \n",
    "                 color=\"orange\", alpha=0.5, label=\"Range 700,000 to 900,000\")\n",
    "\n",
    "plt.title('KDE of Salary Distribution')\n",
    "plt.xlabel('Salary')\n",
    "plt.ylabel('Density')\n",
    "plt.legend()\n",
    "plt.show()"
   ]
  },
  {
   "cell_type": "code",
   "execution_count": null,
   "id": "13bc2651-df11-4440-995e-b42abc2bdcf1",
   "metadata": {},
   "outputs": [],
   "source": []
  },
  {
   "cell_type": "markdown",
   "id": "657396ba-cc85-4a20-8002-efc7ddea82a2",
   "metadata": {},
   "source": [
    " 11)Test the similarity between the degree_t(Sci&Tech)with respect to\n",
    "etest_p and mba_p at significance level of 5%.(Make decision using Hy\u0002pothesis Testing)"
   ]
  },
  {
   "cell_type": "code",
   "execution_count": 23,
   "id": "ae03948a-8518-4e2e-81ab-d4e06f88df86",
   "metadata": {},
   "outputs": [
    {
     "data": {
      "text/plain": [
       "TtestResult(statistic=np.float64(4.532000225151251), pvalue=np.float64(1.4289217003775636e-05), df=np.float64(116.0))"
      ]
     },
     "execution_count": 23,
     "metadata": {},
     "output_type": "execute_result"
    }
   ],
   "source": [
    "from scipy.stats import ttest_ind\n",
    "dataset=dataset.dropna()\n",
    "SciTech_etest_p = dataset[dataset['degree_t']=='Sci&Tech']['etest_p']\n",
    "SciTech_mba_p = dataset[dataset['degree_t']=='Sci&Tech']['mba_p']\n",
    "ttest_ind(SciTech_etest_p,SciTech_mba_p)"
   ]
  },
  {
   "cell_type": "code",
   "execution_count": 24,
   "id": "011d28ad-fd62-4837-b0ca-a9362391f5c7",
   "metadata": {},
   "outputs": [],
   "source": [
    "#Reject null hypothesis p<0.05\n",
    "#accept null hypothesis and reject alternate hypothesis "
   ]
  },
  {
   "cell_type": "code",
   "execution_count": null,
   "id": "8d06d5df-8a0b-43f7-85f7-78cb1f84e0d0",
   "metadata": {},
   "outputs": [],
   "source": []
  },
  {
   "cell_type": "markdown",
   "id": "6a2a0822-1cef-46fa-94d6-f80f7438749d",
   "metadata": {},
   "source": [
    "#12)Which parameter is highly correlated with salary?"
   ]
  },
  {
   "cell_type": "code",
   "execution_count": 26,
   "id": "dc49efa0-472c-4237-bbb1-6f643773da54",
   "metadata": {},
   "outputs": [],
   "source": [
    "slected_colums=['mba_p','ssc_p','hsc_p','degree_p','etest_p']"
   ]
  },
  {
   "cell_type": "code",
   "execution_count": 27,
   "id": "c2448774-b85e-4fe9-8219-92c75de80509",
   "metadata": {},
   "outputs": [],
   "source": [
    "salary_correlation=dataset[slected_colums +['salary']].corr()['salary'].drop('salary')"
   ]
  },
  {
   "cell_type": "code",
   "execution_count": 28,
   "id": "aa8f3008-b789-45a7-8b2c-34fa944aabc1",
   "metadata": {},
   "outputs": [
    {
     "data": {
      "text/plain": [
       "mba_p       0.139823\n",
       "ssc_p       0.538090\n",
       "hsc_p       0.452569\n",
       "degree_p    0.408371\n",
       "etest_p     0.186988\n",
       "Name: salary, dtype: float64"
      ]
     },
     "execution_count": 28,
     "metadata": {},
     "output_type": "execute_result"
    }
   ],
   "source": [
    "salary_correlation"
   ]
  },
  {
   "cell_type": "code",
   "execution_count": 25,
   "id": "3f2e3344-889e-4901-9403-f58b6ea1bd42",
   "metadata": {},
   "outputs": [],
   "source": [
    "#dataset['ssc_p'].corr(dataset['salary'])\n",
    "#(0.538089713348551)"
   ]
  },
  {
   "cell_type": "code",
   "execution_count": null,
   "id": "fbd90244-de74-4de7-986e-8d4d3adc0b1f",
   "metadata": {},
   "outputs": [],
   "source": []
  }
 ],
 "metadata": {
  "kernelspec": {
   "display_name": "Python 3 (ipykernel)",
   "language": "python",
   "name": "python3"
  },
  "language_info": {
   "codemirror_mode": {
    "name": "ipython",
    "version": 3
   },
   "file_extension": ".py",
   "mimetype": "text/x-python",
   "name": "python",
   "nbconvert_exporter": "python",
   "pygments_lexer": "ipython3",
   "version": "3.10.14"
  }
 },
 "nbformat": 4,
 "nbformat_minor": 5
}
